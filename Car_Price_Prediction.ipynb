{
 "cells": [
  {
   "cell_type": "markdown",
   "metadata": {},
   "source": [
    "# Car Price Predictor"
   ]
  },
  {
   "cell_type": "markdown",
   "metadata": {},
   "source": [
    "## Importing necessary libraries."
   ]
  },
  {
   "cell_type": "code",
   "execution_count": 1,
   "metadata": {
    "id": "CiB45_8HzvG-"
   },
   "outputs": [],
   "source": [
    "import numpy as np\n",
    "import pandas as pd\n",
    "import matplotlib.pyplot as plt\n",
    "import seaborn as sns\n",
    "\n",
    "\n",
    "import warnings\n",
    "warnings.simplefilter(\"ignore\")"
   ]
  },
  {
   "cell_type": "markdown",
   "metadata": {},
   "source": [
    "## Importing the csv dataframe and Analysing the  dataframe."
   ]
  },
  {
   "cell_type": "code",
   "execution_count": 2,
   "metadata": {
    "colab": {
     "base_uri": "https://localhost:8080/",
     "height": 206
    },
    "id": "wbJqJuz7Stjf",
    "outputId": "e65e6238-92f8-4e3e-eb10-b9153600fa86"
   },
   "outputs": [
    {
     "data": {
      "text/html": [
       "<div>\n",
       "<style scoped>\n",
       "    .dataframe tbody tr th:only-of-type {\n",
       "        vertical-align: middle;\n",
       "    }\n",
       "\n",
       "    .dataframe tbody tr th {\n",
       "        vertical-align: top;\n",
       "    }\n",
       "\n",
       "    .dataframe thead th {\n",
       "        text-align: right;\n",
       "    }\n",
       "</style>\n",
       "<table border=\"1\" class=\"dataframe\">\n",
       "  <thead>\n",
       "    <tr style=\"text-align: right;\">\n",
       "      <th></th>\n",
       "      <th>name</th>\n",
       "      <th>Brand</th>\n",
       "      <th>year</th>\n",
       "      <th>selling_price</th>\n",
       "      <th>km_driven</th>\n",
       "      <th>fuel</th>\n",
       "      <th>seller_type</th>\n",
       "      <th>transmission</th>\n",
       "      <th>owner</th>\n",
       "    </tr>\n",
       "  </thead>\n",
       "  <tbody>\n",
       "    <tr>\n",
       "      <th>0</th>\n",
       "      <td>Maruti 800 AC</td>\n",
       "      <td>Maruti</td>\n",
       "      <td>2007</td>\n",
       "      <td>60000</td>\n",
       "      <td>70000</td>\n",
       "      <td>Petrol</td>\n",
       "      <td>Individual</td>\n",
       "      <td>Manual</td>\n",
       "      <td>First Owner</td>\n",
       "    </tr>\n",
       "    <tr>\n",
       "      <th>1</th>\n",
       "      <td>Maruti Wagon R LXI Minor</td>\n",
       "      <td>Maruti</td>\n",
       "      <td>2007</td>\n",
       "      <td>135000</td>\n",
       "      <td>50000</td>\n",
       "      <td>Petrol</td>\n",
       "      <td>Individual</td>\n",
       "      <td>Manual</td>\n",
       "      <td>First Owner</td>\n",
       "    </tr>\n",
       "    <tr>\n",
       "      <th>2</th>\n",
       "      <td>Hyundai Verna 1.6 SX</td>\n",
       "      <td>Hyundai</td>\n",
       "      <td>2012</td>\n",
       "      <td>600000</td>\n",
       "      <td>100000</td>\n",
       "      <td>Diesel</td>\n",
       "      <td>Individual</td>\n",
       "      <td>Manual</td>\n",
       "      <td>First Owner</td>\n",
       "    </tr>\n",
       "    <tr>\n",
       "      <th>3</th>\n",
       "      <td>Datsun RediGO T Option</td>\n",
       "      <td>Datsun</td>\n",
       "      <td>2017</td>\n",
       "      <td>250000</td>\n",
       "      <td>46000</td>\n",
       "      <td>Petrol</td>\n",
       "      <td>Individual</td>\n",
       "      <td>Manual</td>\n",
       "      <td>First Owner</td>\n",
       "    </tr>\n",
       "    <tr>\n",
       "      <th>4</th>\n",
       "      <td>Honda Amaze VX i-DTEC</td>\n",
       "      <td>Honda</td>\n",
       "      <td>2014</td>\n",
       "      <td>450000</td>\n",
       "      <td>141000</td>\n",
       "      <td>Diesel</td>\n",
       "      <td>Individual</td>\n",
       "      <td>Manual</td>\n",
       "      <td>Second Owner</td>\n",
       "    </tr>\n",
       "  </tbody>\n",
       "</table>\n",
       "</div>"
      ],
      "text/plain": [
       "                       name    Brand  year  selling_price  km_driven    fuel  \\\n",
       "0             Maruti 800 AC   Maruti  2007          60000      70000  Petrol   \n",
       "1  Maruti Wagon R LXI Minor   Maruti  2007         135000      50000  Petrol   \n",
       "2      Hyundai Verna 1.6 SX  Hyundai  2012         600000     100000  Diesel   \n",
       "3    Datsun RediGO T Option   Datsun  2017         250000      46000  Petrol   \n",
       "4     Honda Amaze VX i-DTEC    Honda  2014         450000     141000  Diesel   \n",
       "\n",
       "  seller_type transmission         owner  \n",
       "0  Individual       Manual   First Owner  \n",
       "1  Individual       Manual   First Owner  \n",
       "2  Individual       Manual   First Owner  \n",
       "3  Individual       Manual   First Owner  \n",
       "4  Individual       Manual  Second Owner  "
      ]
     },
     "execution_count": 2,
     "metadata": {},
     "output_type": "execute_result"
    }
   ],
   "source": [
    "dataframe = pd.read_csv(\"CAR DETAILS.csv\")\n",
    "dataframe.head()"
   ]
  },
  {
   "cell_type": "markdown",
   "metadata": {},
   "source": [
    "## Analysing the datatypes of columns of the dataframe."
   ]
  },
  {
   "cell_type": "code",
   "execution_count": 3,
   "metadata": {
    "colab": {
     "base_uri": "https://localhost:8080/"
    },
    "id": "OGBABM7VS3J_",
    "outputId": "0732e317-1add-4499-dc6c-01b65e35153e"
   },
   "outputs": [
    {
     "data": {
      "text/plain": [
       "name             object\n",
       "Brand            object\n",
       "year              int64\n",
       "selling_price     int64\n",
       "km_driven         int64\n",
       "fuel             object\n",
       "seller_type      object\n",
       "transmission     object\n",
       "owner            object\n",
       "dtype: object"
      ]
     },
     "execution_count": 3,
     "metadata": {},
     "output_type": "execute_result"
    }
   ],
   "source": [
    "dataframe.dtypes"
   ]
  },
  {
   "cell_type": "markdown",
   "metadata": {},
   "source": [
    "## Storing a copy of a dataframe."
   ]
  },
  {
   "cell_type": "code",
   "execution_count": 4,
   "metadata": {
    "id": "f9bNrZk1gtWq"
   },
   "outputs": [],
   "source": [
    "df= dataframe.copy()"
   ]
  },
  {
   "cell_type": "markdown",
   "metadata": {},
   "source": [
    "## Analysing the copied dataset."
   ]
  },
  {
   "cell_type": "code",
   "execution_count": 5,
   "metadata": {
    "colab": {
     "base_uri": "https://localhost:8080/",
     "height": 206
    },
    "id": "iDKCu48QgzxB",
    "outputId": "49234dca-0106-46e3-f128-5126c3a7dd5d",
    "scrolled": true
   },
   "outputs": [
    {
     "data": {
      "text/html": [
       "<div>\n",
       "<style scoped>\n",
       "    .dataframe tbody tr th:only-of-type {\n",
       "        vertical-align: middle;\n",
       "    }\n",
       "\n",
       "    .dataframe tbody tr th {\n",
       "        vertical-align: top;\n",
       "    }\n",
       "\n",
       "    .dataframe thead th {\n",
       "        text-align: right;\n",
       "    }\n",
       "</style>\n",
       "<table border=\"1\" class=\"dataframe\">\n",
       "  <thead>\n",
       "    <tr style=\"text-align: right;\">\n",
       "      <th></th>\n",
       "      <th>name</th>\n",
       "      <th>Brand</th>\n",
       "      <th>year</th>\n",
       "      <th>selling_price</th>\n",
       "      <th>km_driven</th>\n",
       "      <th>fuel</th>\n",
       "      <th>seller_type</th>\n",
       "      <th>transmission</th>\n",
       "      <th>owner</th>\n",
       "    </tr>\n",
       "  </thead>\n",
       "  <tbody>\n",
       "    <tr>\n",
       "      <th>0</th>\n",
       "      <td>Maruti 800 AC</td>\n",
       "      <td>Maruti</td>\n",
       "      <td>2007</td>\n",
       "      <td>60000</td>\n",
       "      <td>70000</td>\n",
       "      <td>Petrol</td>\n",
       "      <td>Individual</td>\n",
       "      <td>Manual</td>\n",
       "      <td>First Owner</td>\n",
       "    </tr>\n",
       "    <tr>\n",
       "      <th>1</th>\n",
       "      <td>Maruti Wagon R LXI Minor</td>\n",
       "      <td>Maruti</td>\n",
       "      <td>2007</td>\n",
       "      <td>135000</td>\n",
       "      <td>50000</td>\n",
       "      <td>Petrol</td>\n",
       "      <td>Individual</td>\n",
       "      <td>Manual</td>\n",
       "      <td>First Owner</td>\n",
       "    </tr>\n",
       "    <tr>\n",
       "      <th>2</th>\n",
       "      <td>Hyundai Verna 1.6 SX</td>\n",
       "      <td>Hyundai</td>\n",
       "      <td>2012</td>\n",
       "      <td>600000</td>\n",
       "      <td>100000</td>\n",
       "      <td>Diesel</td>\n",
       "      <td>Individual</td>\n",
       "      <td>Manual</td>\n",
       "      <td>First Owner</td>\n",
       "    </tr>\n",
       "    <tr>\n",
       "      <th>3</th>\n",
       "      <td>Datsun RediGO T Option</td>\n",
       "      <td>Datsun</td>\n",
       "      <td>2017</td>\n",
       "      <td>250000</td>\n",
       "      <td>46000</td>\n",
       "      <td>Petrol</td>\n",
       "      <td>Individual</td>\n",
       "      <td>Manual</td>\n",
       "      <td>First Owner</td>\n",
       "    </tr>\n",
       "    <tr>\n",
       "      <th>4</th>\n",
       "      <td>Honda Amaze VX i-DTEC</td>\n",
       "      <td>Honda</td>\n",
       "      <td>2014</td>\n",
       "      <td>450000</td>\n",
       "      <td>141000</td>\n",
       "      <td>Diesel</td>\n",
       "      <td>Individual</td>\n",
       "      <td>Manual</td>\n",
       "      <td>Second Owner</td>\n",
       "    </tr>\n",
       "  </tbody>\n",
       "</table>\n",
       "</div>"
      ],
      "text/plain": [
       "                       name    Brand  year  selling_price  km_driven    fuel  \\\n",
       "0             Maruti 800 AC   Maruti  2007          60000      70000  Petrol   \n",
       "1  Maruti Wagon R LXI Minor   Maruti  2007         135000      50000  Petrol   \n",
       "2      Hyundai Verna 1.6 SX  Hyundai  2012         600000     100000  Diesel   \n",
       "3    Datsun RediGO T Option   Datsun  2017         250000      46000  Petrol   \n",
       "4     Honda Amaze VX i-DTEC    Honda  2014         450000     141000  Diesel   \n",
       "\n",
       "  seller_type transmission         owner  \n",
       "0  Individual       Manual   First Owner  \n",
       "1  Individual       Manual   First Owner  \n",
       "2  Individual       Manual   First Owner  \n",
       "3  Individual       Manual   First Owner  \n",
       "4  Individual       Manual  Second Owner  "
      ]
     },
     "execution_count": 5,
     "metadata": {},
     "output_type": "execute_result"
    }
   ],
   "source": [
    "df.head()"
   ]
  },
  {
   "cell_type": "markdown",
   "metadata": {},
   "source": [
    "# EDA (Exploratory Data Analysis)"
   ]
  },
  {
   "cell_type": "markdown",
   "metadata": {},
   "source": [
    "## Analysing the info of dataframe."
   ]
  },
  {
   "cell_type": "code",
   "execution_count": 6,
   "metadata": {
    "colab": {
     "base_uri": "https://localhost:8080/"
    },
    "id": "-Enx2AdTUGE_",
    "outputId": "ce3666a7-f644-4109-ddd1-2b494e9935e4"
   },
   "outputs": [
    {
     "data": {
      "text/plain": [
       "<bound method DataFrame.info of                                      name    Brand  year  selling_price  \\\n",
       "0                           Maruti 800 AC   Maruti  2007          60000   \n",
       "1                Maruti Wagon R LXI Minor   Maruti  2007         135000   \n",
       "2                    Hyundai Verna 1.6 SX  Hyundai  2012         600000   \n",
       "3                  Datsun RediGO T Option   Datsun  2017         250000   \n",
       "4                   Honda Amaze VX i-DTEC    Honda  2014         450000   \n",
       "...                                   ...      ...   ...            ...   \n",
       "4335  Hyundai i20 Magna 1.4 CRDi (Diesel)  Hyundai  2014         409999   \n",
       "4336           Hyundai i20 Magna 1.4 CRDi  Hyundai  2014         409999   \n",
       "4337                  Maruti 800 AC BSIII   Maruti  2009         110000   \n",
       "4338     Hyundai Creta 1.6 CRDi SX Option  Hyundai  2016         865000   \n",
       "4339                     Renault KWID RXT  Renault  2016         225000   \n",
       "\n",
       "      km_driven    fuel seller_type transmission         owner  \n",
       "0         70000  Petrol  Individual       Manual   First Owner  \n",
       "1         50000  Petrol  Individual       Manual   First Owner  \n",
       "2        100000  Diesel  Individual       Manual   First Owner  \n",
       "3         46000  Petrol  Individual       Manual   First Owner  \n",
       "4        141000  Diesel  Individual       Manual  Second Owner  \n",
       "...         ...     ...         ...          ...           ...  \n",
       "4335      80000  Diesel  Individual       Manual  Second Owner  \n",
       "4336      80000  Diesel  Individual       Manual  Second Owner  \n",
       "4337      83000  Petrol  Individual       Manual  Second Owner  \n",
       "4338      90000  Diesel  Individual       Manual   First Owner  \n",
       "4339      40000  Petrol  Individual       Manual   First Owner  \n",
       "\n",
       "[4340 rows x 9 columns]>"
      ]
     },
     "execution_count": 6,
     "metadata": {},
     "output_type": "execute_result"
    }
   ],
   "source": [
    "dataframe.info"
   ]
  },
  {
   "cell_type": "markdown",
   "metadata": {},
   "source": [
    "## Analysing the description of dataframe."
   ]
  },
  {
   "cell_type": "code",
   "execution_count": 7,
   "metadata": {
    "colab": {
     "base_uri": "https://localhost:8080/"
    },
    "id": "x69MVrU6UaWg",
    "outputId": "d15eb0a4-59ab-487a-e3b1-7cfaa992a288"
   },
   "outputs": [
    {
     "data": {
      "text/plain": [
       "<bound method NDFrame.describe of                                      name    Brand  year  selling_price  \\\n",
       "0                           Maruti 800 AC   Maruti  2007          60000   \n",
       "1                Maruti Wagon R LXI Minor   Maruti  2007         135000   \n",
       "2                    Hyundai Verna 1.6 SX  Hyundai  2012         600000   \n",
       "3                  Datsun RediGO T Option   Datsun  2017         250000   \n",
       "4                   Honda Amaze VX i-DTEC    Honda  2014         450000   \n",
       "...                                   ...      ...   ...            ...   \n",
       "4335  Hyundai i20 Magna 1.4 CRDi (Diesel)  Hyundai  2014         409999   \n",
       "4336           Hyundai i20 Magna 1.4 CRDi  Hyundai  2014         409999   \n",
       "4337                  Maruti 800 AC BSIII   Maruti  2009         110000   \n",
       "4338     Hyundai Creta 1.6 CRDi SX Option  Hyundai  2016         865000   \n",
       "4339                     Renault KWID RXT  Renault  2016         225000   \n",
       "\n",
       "      km_driven    fuel seller_type transmission         owner  \n",
       "0         70000  Petrol  Individual       Manual   First Owner  \n",
       "1         50000  Petrol  Individual       Manual   First Owner  \n",
       "2        100000  Diesel  Individual       Manual   First Owner  \n",
       "3         46000  Petrol  Individual       Manual   First Owner  \n",
       "4        141000  Diesel  Individual       Manual  Second Owner  \n",
       "...         ...     ...         ...          ...           ...  \n",
       "4335      80000  Diesel  Individual       Manual  Second Owner  \n",
       "4336      80000  Diesel  Individual       Manual  Second Owner  \n",
       "4337      83000  Petrol  Individual       Manual  Second Owner  \n",
       "4338      90000  Diesel  Individual       Manual   First Owner  \n",
       "4339      40000  Petrol  Individual       Manual   First Owner  \n",
       "\n",
       "[4340 rows x 9 columns]>"
      ]
     },
     "execution_count": 7,
     "metadata": {},
     "output_type": "execute_result"
    }
   ],
   "source": [
    "dataframe.describe"
   ]
  },
  {
   "cell_type": "markdown",
   "metadata": {},
   "source": [
    "## Analysing null values of dataframe."
   ]
  },
  {
   "cell_type": "code",
   "execution_count": 8,
   "metadata": {
    "colab": {
     "base_uri": "https://localhost:8080/"
    },
    "id": "Vbyt-1YwUfhe",
    "outputId": "c28b231e-5f10-4c2c-8cf0-d389b237464a"
   },
   "outputs": [
    {
     "data": {
      "text/plain": [
       "name             0\n",
       "Brand            0\n",
       "year             0\n",
       "selling_price    0\n",
       "km_driven        0\n",
       "fuel             0\n",
       "seller_type      0\n",
       "transmission     0\n",
       "owner            0\n",
       "dtype: int64"
      ]
     },
     "execution_count": 8,
     "metadata": {},
     "output_type": "execute_result"
    }
   ],
   "source": [
    "dataframe.isnull().sum()"
   ]
  },
  {
   "cell_type": "markdown",
   "metadata": {},
   "source": [
    "## Analysing duplicated values of dataframe."
   ]
  },
  {
   "cell_type": "code",
   "execution_count": 10,
   "metadata": {},
   "outputs": [
    {
     "data": {
      "text/plain": [
       "763"
      ]
     },
     "execution_count": 10,
     "metadata": {},
     "output_type": "execute_result"
    }
   ],
   "source": [
    "dataframe.duplicated().sum()"
   ]
  },
  {
   "cell_type": "markdown",
   "metadata": {},
   "source": [
    "## Droping the duplicated values of dataframe. And analysing the dataframe."
   ]
  },
  {
   "cell_type": "code",
   "execution_count": 13,
   "metadata": {},
   "outputs": [],
   "source": [
    "dataframe.drop_duplicates(inplace = True)"
   ]
  },
  {
   "cell_type": "code",
   "execution_count": 14,
   "metadata": {},
   "outputs": [
    {
     "data": {
      "text/plain": [
       "0"
      ]
     },
     "execution_count": 14,
     "metadata": {},
     "output_type": "execute_result"
    }
   ],
   "source": [
    "dataframe.duplicated().sum()"
   ]
  },
  {
   "cell_type": "markdown",
   "metadata": {},
   "source": [
    "## Analysing the columns of dataframe."
   ]
  },
  {
   "cell_type": "code",
   "execution_count": 15,
   "metadata": {
    "colab": {
     "base_uri": "https://localhost:8080/"
    },
    "id": "AJPD19FHUms-",
    "outputId": "afe3a69c-0d5c-418c-b388-d7d27b6b5f14"
   },
   "outputs": [
    {
     "data": {
      "text/plain": [
       "Index(['name', 'Brand', 'year', 'selling_price', 'km_driven', 'fuel',\n",
       "       'seller_type', 'transmission', 'owner'],\n",
       "      dtype='object')"
      ]
     },
     "execution_count": 15,
     "metadata": {},
     "output_type": "execute_result"
    }
   ],
   "source": [
    "columns=dataframe.columns\n",
    "columns"
   ]
  },
  {
   "cell_type": "markdown",
   "metadata": {},
   "source": [
    "## Analysing the unique values of the brand column of dataframe."
   ]
  },
  {
   "cell_type": "code",
   "execution_count": 16,
   "metadata": {
    "colab": {
     "base_uri": "https://localhost:8080/"
    },
    "id": "NvZqI-v3VY9R",
    "outputId": "ffa809a2-1084-47d7-b38b-e53fe94866ce"
   },
   "outputs": [
    {
     "data": {
      "text/plain": [
       "array(['Maruti', 'Hyundai', 'Datsun', 'Honda', 'Tata', 'Chevrolet',\n",
       "       'Toyota', 'Jaguar', 'Mercedes-Benz', 'Audi', 'Skoda', 'Jeep',\n",
       "       'BMW', 'Mahindra', 'Ford', 'Nissan', 'Renault', 'Fiat',\n",
       "       'Volkswagen', 'Volvo', 'Mitsubishi', 'Land', 'Daewoo', 'MG',\n",
       "       'Force', 'Isuzu', 'OpelCorsa', 'Ambassador', 'Kia'], dtype=object)"
      ]
     },
     "execution_count": 16,
     "metadata": {},
     "output_type": "execute_result"
    }
   ],
   "source": [
    "dataframe['Brand'].unique()"
   ]
  },
  {
   "cell_type": "markdown",
   "metadata": {},
   "source": [
    "## Analysing the unique value of all the columns of dataframe."
   ]
  },
  {
   "cell_type": "code",
   "execution_count": 17,
   "metadata": {
    "colab": {
     "base_uri": "https://localhost:8080/"
    },
    "id": "M-_WjXUeUxMO",
    "outputId": "39af95dc-3ec3-495c-b8ef-e4826f57b673"
   },
   "outputs": [
    {
     "name": "stdout",
     "output_type": "stream",
     "text": [
      "name \n",
      " ['Maruti 800 AC' 'Maruti Wagon R LXI Minor' 'Hyundai Verna 1.6 SX' ...\n",
      " 'Mahindra Verito 1.5 D6 BSIII'\n",
      " 'Toyota Innova 2.5 VX (Diesel) 8 Seater BS IV'\n",
      " 'Hyundai i20 Magna 1.4 CRDi']\n",
      "-------------------------------------------------------------------------------------------------------\n",
      "Brand \n",
      " ['Maruti' 'Hyundai' 'Datsun' 'Honda' 'Tata' 'Chevrolet' 'Toyota' 'Jaguar'\n",
      " 'Mercedes-Benz' 'Audi' 'Skoda' 'Jeep' 'BMW' 'Mahindra' 'Ford' 'Nissan'\n",
      " 'Renault' 'Fiat' 'Volkswagen' 'Volvo' 'Mitsubishi' 'Land' 'Daewoo' 'MG'\n",
      " 'Force' 'Isuzu' 'OpelCorsa' 'Ambassador' 'Kia']\n",
      "-------------------------------------------------------------------------------------------------------\n",
      "year \n",
      " [2007 2012 2017 2014 2016 2015 2018 2019 2013 2011 2010 2009 2006 1996\n",
      " 2005 2008 2004 1998 2003 2002 2020 2000 1999 2001 1995 1997 1992]\n",
      "-------------------------------------------------------------------------------------------------------\n",
      "fuel \n",
      " ['Petrol' 'Diesel' 'CNG' 'LPG' 'Electric']\n",
      "-------------------------------------------------------------------------------------------------------\n",
      "seller_type \n",
      " ['Individual' 'Dealer' 'Trustmark Dealer']\n",
      "-------------------------------------------------------------------------------------------------------\n",
      "transmission \n",
      " ['Manual' 'Automatic']\n",
      "-------------------------------------------------------------------------------------------------------\n",
      "owner \n",
      " ['First Owner' 'Second Owner' 'Fourth & Above Owner' 'Third Owner'\n",
      " 'Test Drive Car']\n",
      "-------------------------------------------------------------------------------------------------------\n"
     ]
    }
   ],
   "source": [
    "for column in columns:\n",
    "    if column == \"selling_price\" or column == \"km_driven\":\n",
    "        pass\n",
    "\n",
    "    else:\n",
    "        print(f\"{column} \\n {dataframe[column].unique()}\")\n",
    "        print(\"-------------------------------------------------------------------------------------------------------\")\n"
   ]
  },
  {
   "cell_type": "markdown",
   "metadata": {},
   "source": [
    "# Data Pre-Processing"
   ]
  },
  {
   "cell_type": "markdown",
   "metadata": {},
   "source": [
    "## Building a user defined label encoder function."
   ]
  },
  {
   "cell_type": "code",
   "execution_count": 19,
   "metadata": {
    "colab": {
     "base_uri": "https://localhost:8080/"
    },
    "id": "cvgIw7gsZc-u",
    "outputId": "0eaecc9d-57af-4eff-9c5d-c68de220b1f5"
   },
   "outputs": [],
   "source": [
    "from sklearn.preprocessing import LabelEncoder\n",
    "\n",
    "# Create an instance of the OneHotEncoder\n",
    "label_encoder = LabelEncoder()\n",
    "\n",
    "def label_encode(column):\n",
    "    \n",
    "\n",
    "    # Fit and transform the column\n",
    "    dataframe[column] = label_encoder.fit_transform(dataframe[column])\n",
    "\n",
    "    # Print the encoded DataFrame\n",
    "    print(dataframe.head())\n",
    "\n"
   ]
  },
  {
   "cell_type": "markdown",
   "metadata": {},
   "source": [
    "## Applying label encoder on all the required columns."
   ]
  },
  {
   "cell_type": "code",
   "execution_count": 20,
   "metadata": {},
   "outputs": [
    {
     "name": "stdout",
     "output_type": "stream",
     "text": [
      "                       name  Brand  year  selling_price  km_driven    fuel  \\\n",
      "0             Maruti 800 AC     18  2007          60000      70000  Petrol   \n",
      "1  Maruti Wagon R LXI Minor     18  2007         135000      50000  Petrol   \n",
      "2      Hyundai Verna 1.6 SX     10  2012         600000     100000  Diesel   \n",
      "3    Datsun RediGO T Option      5  2017         250000      46000  Petrol   \n",
      "4     Honda Amaze VX i-DTEC      9  2014         450000     141000  Diesel   \n",
      "\n",
      "  seller_type transmission         owner  \n",
      "0  Individual       Manual   First Owner  \n",
      "1  Individual       Manual   First Owner  \n",
      "2  Individual       Manual   First Owner  \n",
      "3  Individual       Manual   First Owner  \n",
      "4  Individual       Manual  Second Owner  \n"
     ]
    }
   ],
   "source": [
    "label_encode(\"Brand\")"
   ]
  },
  {
   "cell_type": "code",
   "execution_count": 21,
   "metadata": {},
   "outputs": [
    {
     "name": "stdout",
     "output_type": "stream",
     "text": [
      "                       name  Brand  year  selling_price  km_driven  fuel  \\\n",
      "0             Maruti 800 AC     18  2007          60000      70000     4   \n",
      "1  Maruti Wagon R LXI Minor     18  2007         135000      50000     4   \n",
      "2      Hyundai Verna 1.6 SX     10  2012         600000     100000     1   \n",
      "3    Datsun RediGO T Option      5  2017         250000      46000     4   \n",
      "4     Honda Amaze VX i-DTEC      9  2014         450000     141000     1   \n",
      "\n",
      "  seller_type transmission         owner  \n",
      "0  Individual       Manual   First Owner  \n",
      "1  Individual       Manual   First Owner  \n",
      "2  Individual       Manual   First Owner  \n",
      "3  Individual       Manual   First Owner  \n",
      "4  Individual       Manual  Second Owner  \n"
     ]
    }
   ],
   "source": [
    "label_encode(\"fuel\")"
   ]
  },
  {
   "cell_type": "code",
   "execution_count": 22,
   "metadata": {},
   "outputs": [
    {
     "name": "stdout",
     "output_type": "stream",
     "text": [
      "                       name  Brand  year  selling_price  km_driven  fuel  \\\n",
      "0             Maruti 800 AC     18  2007          60000      70000     4   \n",
      "1  Maruti Wagon R LXI Minor     18  2007         135000      50000     4   \n",
      "2      Hyundai Verna 1.6 SX     10  2012         600000     100000     1   \n",
      "3    Datsun RediGO T Option      5  2017         250000      46000     4   \n",
      "4     Honda Amaze VX i-DTEC      9  2014         450000     141000     1   \n",
      "\n",
      "   seller_type transmission         owner  \n",
      "0            1       Manual   First Owner  \n",
      "1            1       Manual   First Owner  \n",
      "2            1       Manual   First Owner  \n",
      "3            1       Manual   First Owner  \n",
      "4            1       Manual  Second Owner  \n"
     ]
    }
   ],
   "source": [
    "label_encode(\"seller_type\")"
   ]
  },
  {
   "cell_type": "code",
   "execution_count": 23,
   "metadata": {},
   "outputs": [
    {
     "name": "stdout",
     "output_type": "stream",
     "text": [
      "                       name  Brand  year  selling_price  km_driven  fuel  \\\n",
      "0             Maruti 800 AC     18  2007          60000      70000     4   \n",
      "1  Maruti Wagon R LXI Minor     18  2007         135000      50000     4   \n",
      "2      Hyundai Verna 1.6 SX     10  2012         600000     100000     1   \n",
      "3    Datsun RediGO T Option      5  2017         250000      46000     4   \n",
      "4     Honda Amaze VX i-DTEC      9  2014         450000     141000     1   \n",
      "\n",
      "   seller_type  transmission         owner  \n",
      "0            1             1   First Owner  \n",
      "1            1             1   First Owner  \n",
      "2            1             1   First Owner  \n",
      "3            1             1   First Owner  \n",
      "4            1             1  Second Owner  \n"
     ]
    }
   ],
   "source": [
    "label_encode(\"transmission\")"
   ]
  },
  {
   "cell_type": "code",
   "execution_count": 24,
   "metadata": {},
   "outputs": [
    {
     "name": "stdout",
     "output_type": "stream",
     "text": [
      "                       name  Brand  year  selling_price  km_driven  fuel  \\\n",
      "0             Maruti 800 AC     18  2007          60000      70000     4   \n",
      "1  Maruti Wagon R LXI Minor     18  2007         135000      50000     4   \n",
      "2      Hyundai Verna 1.6 SX     10  2012         600000     100000     1   \n",
      "3    Datsun RediGO T Option      5  2017         250000      46000     4   \n",
      "4     Honda Amaze VX i-DTEC      9  2014         450000     141000     1   \n",
      "\n",
      "   seller_type  transmission  owner  \n",
      "0            1             1      0  \n",
      "1            1             1      0  \n",
      "2            1             1      0  \n",
      "3            1             1      0  \n",
      "4            1             1      2  \n"
     ]
    }
   ],
   "source": [
    "label_encode(\"owner\")"
   ]
  },
  {
   "cell_type": "markdown",
   "metadata": {},
   "source": [
    "## Analysing theKm_driven column of dataframe."
   ]
  },
  {
   "cell_type": "code",
   "execution_count": 26,
   "metadata": {
    "colab": {
     "base_uri": "https://localhost:8080/"
    },
    "id": "XeDELzdMdYdN",
    "outputId": "6dd13990-fb38-433d-c475-acedd6c2ff93"
   },
   "outputs": [
    {
     "data": {
      "text/plain": [
       "0        70000\n",
       "1        50000\n",
       "2       100000\n",
       "3        46000\n",
       "4       141000\n",
       "         ...  \n",
       "4335     80000\n",
       "4336     80000\n",
       "4337     83000\n",
       "4338     90000\n",
       "4339     40000\n",
       "Name: km_driven, Length: 3577, dtype: int64"
      ]
     },
     "execution_count": 26,
     "metadata": {},
     "output_type": "execute_result"
    }
   ],
   "source": [
    "dataframe[\"km_driven\"]"
   ]
  },
  {
   "cell_type": "markdown",
   "metadata": {},
   "source": [
    "## Plotting the box plot for Km_driven column of dataframe."
   ]
  },
  {
   "cell_type": "code",
   "execution_count": 28,
   "metadata": {
    "colab": {
     "base_uri": "https://localhost:8080/",
     "height": 410
    },
    "id": "Pzdo-BO4jF3d",
    "outputId": "12497af8-3868-493c-9aed-6953c296a41a"
   },
   "outputs": [
    {
     "data": {
      "image/png": "[encoded data removed]",
      "text/plain": [
       "<Figure size 400x400 with 1 Axes>"
      ]
     },
     "metadata": {},
     "output_type": "display_data"
    }
   ],
   "source": [
    "# Plotting box plot\n",
    "plt.figure(figsize=(4,4))  # Set the figure size\n",
    "plt.boxplot(dataframe[\"km_driven\"])\n",
    "\n",
    "# Adding title and labels\n",
    "plt.title('Box Plot of km_driven')\n",
    "plt.xlabel('km_driven')\n",
    "plt.ylabel('Distance in Kilometers')\n",
    "\n",
    "# Display the plot\n",
    "plt.show()\n"
   ]
  },
  {
   "cell_type": "markdown",
   "metadata": {
    "id": "8dzFrUpSwqJ3"
   },
   "source": [
    "## Building user defined function for removing Outliers from a column and dataframe."
   ]
  },
  {
   "cell_type": "code",
   "execution_count": 29,
   "metadata": {
    "id": "TBB0D2AVU0Qs"
   },
   "outputs": [],
   "source": [
    "def Outlier_free(col):\n",
    "    Q3=np.quantile(dataframe[col],0.75)\n",
    "    Q1=np.quantile(dataframe[col],0.25)\n",
    "\n",
    "    IQR = Q3 - Q1\n",
    "\n",
    "    lower_limit = Q1 - 1.5*IQR\n",
    "    upper_limit = Q3 + 1.5*IQR\n",
    "\n",
    "    suri = dataframe[((dataframe[col] >= lower_limit) & (dataframe[col] <=upper_limit ))]\n",
    "\n",
    "    dataframe[col] = np.where(dataframe[col] >= upper_limit,\n",
    "        upper_limit,\n",
    "        np.where(dataframe[col] <= lower_limit,\n",
    "        lower_limit,\n",
    "        dataframe[col]))\n",
    "\n",
    "    plt.figure(figsize=(4,4))\n",
    "    plt.boxplot(dataframe[col])\n",
    "    plt.xlabel(f\"{col}\")\n",
    "    plt.title(f\"Outlier_free_{col}\")\n",
    "    plt.show()"
   ]
  },
  {
   "cell_type": "markdown",
   "metadata": {},
   "source": [
    "## Removing outliers from Km_driven columns and Plotting box plot"
   ]
  },
  {
   "cell_type": "code",
   "execution_count": 30,
   "metadata": {
    "colab": {
     "base_uri": "https://localhost:8080/",
     "height": 410
    },
    "id": "_JjivVCjU_X7",
    "outputId": "2ad7fe74-dde5-44e5-d8d5-5a8aec88c06c"
   },
   "outputs": [
    {
     "data": {
      "image/png": "[encoded data removed]",
      "text/plain": [
       "<Figure size 400x400 with 1 Axes>"
      ]
     },
     "metadata": {},
     "output_type": "display_data"
    }
   ],
   "source": [
    "Outlier_free(\"km_driven\")"
   ]
  },
  {
   "cell_type": "markdown",
   "metadata": {},
   "source": [
    "## Splitting data into Dependent y and Independent X variables ."
   ]
  },
  {
   "cell_type": "code",
   "execution_count": 32,
   "metadata": {
    "colab": {
     "base_uri": "https://localhost:8080/"
    },
    "id": "eWlka5xfkzgq",
    "outputId": "06feb33c-4f35-4115-986b-07f91acc228a"
   },
   "outputs": [
    {
     "name": "stdout",
     "output_type": "stream",
     "text": [
      "(3577, 7)\n",
      "(3577,)\n"
     ]
    }
   ],
   "source": [
    "X= dataframe.drop(['selling_price','name'], axis=1)\n",
    "y= dataframe.selling_price\n",
    "\n",
    "print(X.shape)\n",
    "print(y.shape)"
   ]
  },
  {
   "cell_type": "markdown",
   "metadata": {},
   "source": [
    "## Analysing the independent variable columns"
   ]
  },
  {
   "cell_type": "code",
   "execution_count": 33,
   "metadata": {
    "colab": {
     "base_uri": "https://localhost:8080/"
    },
    "id": "MFtdMi9YvbIg",
    "outputId": "c382e09a-3d6f-45bc-9493-da4da8cd9525"
   },
   "outputs": [
    {
     "data": {
      "text/plain": [
       "Index(['Brand', 'year', 'km_driven', 'fuel', 'seller_type', 'transmission',\n",
       "       'owner'],\n",
       "      dtype='object')"
      ]
     },
     "execution_count": 33,
     "metadata": {},
     "output_type": "execute_result"
    }
   ],
   "source": [
    "X.columns"
   ]
  },
  {
   "cell_type": "markdown",
   "metadata": {},
   "source": [
    "## Plotting and Analysing correlation table."
   ]
  },
  {
   "cell_type": "code",
   "execution_count": 35,
   "metadata": {
    "colab": {
     "base_uri": "https://localhost:8080/",
     "height": 1000
    },
    "id": "2OmllS0kl7ny",
    "outputId": "2b8c27ed-7865-4bae-89df-52e63e1311f5"
   },
   "outputs": [
    {
     "data": {
      "image/png": "[encoded data removed]",
      "text/plain": [
       "<Figure size 700x700 with 2 Axes>"
      ]
     },
     "metadata": {},
     "output_type": "display_data"
    }
   ],
   "source": [
    "corr= X.corr()\n",
    "plt.figure(figsize=(7,7))\n",
    "sns.heatmap(corr, annot=True, cmap='coolwarm')\n",
    "plt.show()"
   ]
  },
  {
   "cell_type": "markdown",
   "metadata": {},
   "source": [
    "## Filtering the correlation table."
   ]
  },
  {
   "cell_type": "code",
   "execution_count": 36,
   "metadata": {
    "colab": {
     "base_uri": "https://localhost:8080/"
    },
    "id": "l7jIEnaHp7gO",
    "outputId": "c040b825-a37b-4e89-ab68-38c2b8845819"
   },
   "outputs": [
    {
     "data": {
      "text/plain": [
       "Index(['Brand', 'year', 'km_driven', 'fuel', 'seller_type', 'transmission',\n",
       "       'owner'],\n",
       "      dtype='object')"
      ]
     },
     "execution_count": 36,
     "metadata": {},
     "output_type": "execute_result"
    }
   ],
   "source": [
    "# Identify columns to drop\n",
    "columns_to_drop = corr.columns[((corr.abs() > 0.75) & (corr.abs() > -0.75)).any()]\n",
    "\n",
    "columns_to_drop"
   ]
  },
  {
   "cell_type": "markdown",
   "metadata": {},
   "source": [
    "## Building a user defined function to filter."
   ]
  },
  {
   "cell_type": "code",
   "execution_count": 37,
   "metadata": {
    "id": "Sf1DJiri1UAC"
   },
   "outputs": [],
   "source": [
    "def correlation(dataset, threshold1, threshold2):\n",
    "    corr_= set()\n",
    "    corr =  dataset.corr()\n",
    "    for i in range(len(corr.columns)):\n",
    "        for j in range(i):\n",
    "            if abs(((corr.iloc[i, j]) > threshold1) | ((corr.iloc[i, j]) < threshold2)):\n",
    "                colname_i = corr.columns[i]\n",
    "                corr_.add(colname_i)\n",
    "    return corr_"
   ]
  },
  {
   "cell_type": "code",
   "execution_count": 38,
   "metadata": {
    "colab": {
     "base_uri": "https://localhost:8080/"
    },
    "id": "8nv6I5HXroXM",
    "outputId": "44f7ea21-6730-4ab7-a2af-e3afba9793ec"
   },
   "outputs": [
    {
     "data": {
      "text/plain": [
       "set()"
      ]
     },
     "execution_count": 38,
     "metadata": {},
     "output_type": "execute_result"
    }
   ],
   "source": [
    "correlation(X, 0.75, -0.75)"
   ]
  },
  {
   "cell_type": "code",
   "execution_count": 39,
   "metadata": {
    "colab": {
     "base_uri": "https://localhost:8080/"
    },
    "id": "QP4-jbDc5s27",
    "outputId": "a72cefee-a650-4ed5-891e-d77f3522e62a"
   },
   "outputs": [
    {
     "data": {
      "text/plain": [
       "0"
      ]
     },
     "execution_count": 39,
     "metadata": {},
     "output_type": "execute_result"
    }
   ],
   "source": [
    "len(correlation(X, 0.75, -0.75))"
   ]
  },
  {
   "cell_type": "code",
   "execution_count": 41,
   "metadata": {
    "colab": {
     "base_uri": "https://localhost:8080/"
    },
    "id": "aropDL7HBiUX",
    "outputId": "9c93efdc-18d4-4f55-8a58-6a83ad824b89"
   },
   "outputs": [
    {
     "data": {
      "text/plain": [
       "(3577, 7)"
      ]
     },
     "execution_count": 41,
     "metadata": {},
     "output_type": "execute_result"
    }
   ],
   "source": [
    "X.shape"
   ]
  },
  {
   "cell_type": "code",
   "execution_count": 43,
   "metadata": {
    "colab": {
     "base_uri": "https://localhost:8080/",
     "height": 1000
    },
    "id": "W56K3LM7sfvM",
    "outputId": "b82b39e1-7bb8-4fb1-f8bf-cd4e76578e62"
   },
   "outputs": [
    {
     "data": {
      "image/png": "[encoded data removed]",
      "text/plain": [
       "<Figure size 700x700 with 2 Axes>"
      ]
     },
     "metadata": {},
     "output_type": "display_data"
    }
   ],
   "source": [
    "cr = X.corr()\n",
    "\n",
    "plt.figure(figsize=(7,7))\n",
    "sns.heatmap(cr, annot=True, cmap='coolwarm')\n",
    "plt.show()"
   ]
  },
  {
   "cell_type": "markdown",
   "metadata": {},
   "source": [
    "## Sacling the X variables and building Standard Scaler model"
   ]
  },
  {
   "cell_type": "code",
   "execution_count": 44,
   "metadata": {
    "id": "8Kx3LFUlskVs"
   },
   "outputs": [],
   "source": [
    "from sklearn.preprocessing import StandardScaler\n",
    "scale = StandardScaler()"
   ]
  },
  {
   "cell_type": "markdown",
   "metadata": {
    "id": "Lj3FMY2jCMoD"
   },
   "source": [
    "## Fitting and transforming the data for scaling."
   ]
  },
  {
   "cell_type": "code",
   "execution_count": 46,
   "metadata": {
    "id": "Ev9isLDEC1ve"
   },
   "outputs": [],
   "source": [
    "X_scaled = scale.fit_transform(X)"
   ]
  },
  {
   "cell_type": "code",
   "execution_count": 47,
   "metadata": {
    "colab": {
     "base_uri": "https://localhost:8080/"
    },
    "id": "pzCheafYC1y9",
    "outputId": "0e774b9e-5c75-4bd6-ce25-d24d9be5828a"
   },
   "outputs": [
    {
     "data": {
      "text/plain": [
       "array([[ 0.3434235 , -1.40256584,  0.06042669, ...,  0.45738437,\n",
       "         0.30912612, -0.70888558],\n",
       "       [ 0.3434235 , -1.40256584, -0.43422979, ...,  0.45738437,\n",
       "         0.30912612, -0.70888558],\n",
       "       [-0.84878892, -0.22641758,  0.80241142, ...,  0.45738437,\n",
       "         0.30912612, -0.70888558],\n",
       "       ...,\n",
       "       [ 0.3434235 , -0.93210654,  0.38195341, ...,  0.45738437,\n",
       "         0.30912612,  0.85731808],\n",
       "       [-0.84878892,  0.71450103,  0.55508318, ...,  0.45738437,\n",
       "         0.30912612, -0.70888558],\n",
       "       [ 1.08855627,  0.71450103, -0.68155803, ...,  0.45738437,\n",
       "         0.30912612, -0.70888558]])"
      ]
     },
     "execution_count": 47,
     "metadata": {},
     "output_type": "execute_result"
    }
   ],
   "source": [
    "X_scaled"
   ]
  },
  {
   "cell_type": "markdown",
   "metadata": {},
   "source": [
    "## Spliting data into train and test data"
   ]
  },
  {
   "cell_type": "code",
   "execution_count": 48,
   "metadata": {
    "id": "pwsRz55VCPUd"
   },
   "outputs": [],
   "source": [
    "from sklearn.model_selection import train_test_split\n",
    "x_train,x_test,y_train,y_test=train_test_split(X_scaled,y,test_size=.20,random_state=4)"
   ]
  },
  {
   "cell_type": "markdown",
   "metadata": {},
   "source": [
    "## Building a user defined function for evaluationg the model test, train accuracy score."
   ]
  },
  {
   "cell_type": "code",
   "execution_count": 93,
   "metadata": {
    "id": "zTmujGFRDI60"
   },
   "outputs": [],
   "source": [
    "def evaluate_score(model):\n",
    "    from sklearn.metrics import r2_score, mean_absolute_error, mean_squared_error\n",
    "    import math\n",
    "    model.fit(x_train,y_train)\n",
    "    y_pred=model.predict(x_test)\n",
    "\n",
    "    print(f\"*---------------------------------------Score_{model}-------------------------------------*\")\n",
    "    rr= r2_score(y_test, y_pred)\n",
    "    print(f\"The R2_Score is :- {rr} \\n\")\n",
    "\n",
    "    # Evaluate the model on the training data\n",
    "    train_score = model.score(x_train, y_train)\n",
    "\n",
    "    # Evaluate the model on the test data\n",
    "    test_score = model.score(x_test, y_test)\n",
    "\n",
    "    # Print the training and test scores\n",
    "    print(f\"Training Score: {train_score} \\n\")\n",
    "    print(f\"Test Score: {test_score} \\n \" )\n",
    "\n",
    "\n"
   ]
  },
  {
   "cell_type": "markdown",
   "metadata": {},
   "source": [
    "# Applying various Machine Learning model"
   ]
  },
  {
   "cell_type": "markdown",
   "metadata": {},
   "source": [
    "## Building and fitting Linear Regression ML model"
   ]
  },
  {
   "cell_type": "code",
   "execution_count": 50,
   "metadata": {
    "id": "_zi3jYksHiPu"
   },
   "outputs": [],
   "source": [
    "from sklearn.linear_model import LinearRegression\n",
    "lr = LinearRegression()"
   ]
  },
  {
   "cell_type": "markdown",
   "metadata": {},
   "source": [
    "## Analysing the evaluated score."
   ]
  },
  {
   "cell_type": "code",
   "execution_count": 51,
   "metadata": {
    "colab": {
     "base_uri": "https://localhost:8080/"
    },
    "id": "dFAIwhi_Hyc5",
    "outputId": "2c1a1cce-586a-4184-8a57-2803b160f757"
   },
   "outputs": [
    {
     "name": "stdout",
     "output_type": "stream",
     "text": [
      "*---------------------------------------Score_LinearRegression()-------------------------------------*\n",
      "The R2_Score is :- 0.484739303397005 \n",
      "\n",
      "Training Score: 0.4198071980241984 \n",
      "\n",
      "Test Score: 0.484739303397005 \n",
      " \n",
      "The Mean Absolute error is :- 203610.00110399403\n",
      "\n",
      "The Mean Squared Error is :- 113085764091.41528\n",
      "\n",
      "The Root Mean Squared Error is :- 451.2316490495697\n",
      "\n"
     ]
    }
   ],
   "source": [
    "evaluate_score(lr)"
   ]
  },
  {
   "cell_type": "markdown",
   "metadata": {},
   "source": [
    "## Building and fitting Random Forest Regressor ML model"
   ]
  },
  {
   "cell_type": "code",
   "execution_count": 202,
   "metadata": {
    "id": "QXyr-rO-H25m"
   },
   "outputs": [],
   "source": [
    "from sklearn.ensemble import RandomForestRegressor\n",
    "rfc= RandomForestRegressor(n_estimators=300,criterion='poisson', max_depth= 10, max_samples=0.8)"
   ]
  },
  {
   "cell_type": "markdown",
   "metadata": {},
   "source": [
    "## Analysing the evaluated score."
   ]
  },
  {
   "cell_type": "code",
   "execution_count": 203,
   "metadata": {
    "colab": {
     "base_uri": "https://localhost:8080/"
    },
    "id": "B9JgWJNPLvow",
    "outputId": "e886f9a7-d784-4082-92c4-7a06de7e239a"
   },
   "outputs": [
    {
     "name": "stdout",
     "output_type": "stream",
     "text": [
      "*---------------------------------------Score_RandomForestRegressor(criterion='poisson', max_depth=10, max_samples=0.8,\n",
      "                      n_estimators=300)-------------------------------------*\n",
      "The R2_Score is :- 0.644614962098267 \n",
      "\n",
      "Training Score: 0.8776463951244794 \n",
      "\n",
      "Test Score: 0.644614962098267 \n",
      " \n"
     ]
    }
   ],
   "source": [
    "evaluate_score(rfc)"
   ]
  },
  {
   "cell_type": "markdown",
   "metadata": {},
   "source": [
    "## Building and fitting Bagging Regression ML model"
   ]
  },
  {
   "cell_type": "code",
   "execution_count": 204,
   "metadata": {
    "id": "3-cvULKeLy6o"
   },
   "outputs": [],
   "source": [
    "from sklearn.ensemble import BaggingRegressor\n",
    "bg = BaggingRegressor(n_estimators=500, verbose= 1)"
   ]
  },
  {
   "cell_type": "markdown",
   "metadata": {},
   "source": [
    "## Analysing the evaluated score."
   ]
  },
  {
   "cell_type": "code",
   "execution_count": 205,
   "metadata": {
    "colab": {
     "base_uri": "https://localhost:8080/"
    },
    "id": "19A0IKJCNPfY",
    "outputId": "b35d7b18-7cc4-4c17-988f-10eb16bfee1a"
   },
   "outputs": [
    {
     "name": "stderr",
     "output_type": "stream",
     "text": [
      "[Parallel(n_jobs=1)]: Using backend SequentialBackend with 1 concurrent workers.\n",
      "[Parallel(n_jobs=1)]: Done   1 out of   1 | elapsed:    3.6s finished\n",
      "[Parallel(n_jobs=1)]: Using backend SequentialBackend with 1 concurrent workers.\n",
      "[Parallel(n_jobs=1)]: Done   1 out of   1 | elapsed:    0.0s finished\n",
      "[Parallel(n_jobs=1)]: Using backend SequentialBackend with 1 concurrent workers.\n"
     ]
    },
    {
     "name": "stdout",
     "output_type": "stream",
     "text": [
      "*---------------------------------------Score_BaggingRegressor(n_estimators=500, verbose=1)-------------------------------------*\n",
      "The R2_Score is :- 0.6279548331698135 \n",
      "\n",
      "Training Score: 0.935369388814558 \n",
      "\n",
      "Test Score: 0.6279548331698135 \n",
      " \n"
     ]
    },
    {
     "name": "stderr",
     "output_type": "stream",
     "text": [
      "[Parallel(n_jobs=1)]: Done   1 out of   1 | elapsed:    0.2s finished\n",
      "[Parallel(n_jobs=1)]: Using backend SequentialBackend with 1 concurrent workers.\n",
      "[Parallel(n_jobs=1)]: Done   1 out of   1 | elapsed:    0.0s finished\n"
     ]
    }
   ],
   "source": [
    "evaluate_score(bg)"
   ]
  },
  {
   "cell_type": "markdown",
   "metadata": {},
   "source": [
    "## Building and fitting Extra Tree Regressor ML model"
   ]
  },
  {
   "cell_type": "code",
   "execution_count": 71,
   "metadata": {
    "id": "0Vt1pWQ5NTBn"
   },
   "outputs": [],
   "source": [
    "from sklearn.ensemble import ExtraTreesRegressor\n",
    "etr=ExtraTreesRegressor(n_estimators=5000, max_depth=5, criterion=\"absolute_error\")"
   ]
  },
  {
   "cell_type": "markdown",
   "metadata": {},
   "source": [
    "## Analysing the evaluated score."
   ]
  },
  {
   "cell_type": "code",
   "execution_count": 72,
   "metadata": {
    "colab": {
     "base_uri": "https://localhost:8080/"
    },
    "id": "ZbYYXnuYPq1Q",
    "outputId": "5eea86ee-696d-4f18-99cd-6a02f530d2d1"
   },
   "outputs": [
    {
     "name": "stdout",
     "output_type": "stream",
     "text": [
      "*---------------------------------------Score_ExtraTreesRegressor(criterion='absolute_error', max_depth=5, n_estimators=5000)-------------------------------------*\n",
      "The R2_Score is :- 0.5687082228831408 \n",
      "\n",
      "Training Score: 0.5654268364522957 \n",
      "\n",
      "Test Score: 0.5687082228831408 \n",
      " \n",
      "The Mean Absolute error is :- 162538.89242430165\n",
      "\n",
      "The Mean Squared Error is :- 94656861047.5323\n",
      "\n",
      "The Root Mean Squared Error is :- 403.1611246441076\n",
      "\n"
     ]
    }
   ],
   "source": [
    "evaluate_score(etr)"
   ]
  },
  {
   "cell_type": "markdown",
   "metadata": {},
   "source": [
    "## Building and fitting Polynomial RegressionML model"
   ]
  },
  {
   "cell_type": "code",
   "execution_count": 58,
   "metadata": {
    "id": "5YJgCH24PwqM"
   },
   "outputs": [
    {
     "data": {
      "text/html": [
       "<style>#sk-container-id-1 {color: black;background-color: white;}#sk-container-id-1 pre{padding: 0;}#sk-container-id-1 div.sk-toggleable {background-color: white;}#sk-container-id-1 label.sk-toggleable__label {cursor: pointer;display: block;width: 100%;margin-bottom: 0;padding: 0.3em;box-sizing: border-box;text-align: center;}#sk-container-id-1 label.sk-toggleable__label-arrow:before {content: \"▸\";float: left;margin-right: 0.25em;color: #696969;}#sk-container-id-1 label.sk-toggleable__label-arrow:hover:before {color: black;}#sk-container-id-1 div.sk-estimator:hover label.sk-toggleable__label-arrow:before {color: black;}#sk-container-id-1 div.sk-toggleable__content {max-height: 0;max-width: 0;overflow: hidden;text-align: left;background-color: #f0f8ff;}#sk-container-id-1 div.sk-toggleable__content pre {margin: 0.2em;color: black;border-radius: 0.25em;background-color: #f0f8ff;}#sk-container-id-1 input.sk-toggleable__control:checked~div.sk-toggleable__content {max-height: 200px;max-width: 100%;overflow: auto;}#sk-container-id-1 input.sk-toggleable__control:checked~label.sk-toggleable__label-arrow:before {content: \"▾\";}#sk-container-id-1 div.sk-estimator input.sk-toggleable__control:checked~label.sk-toggleable__label {background-color: #d4ebff;}#sk-container-id-1 div.sk-label input.sk-toggleable__control:checked~label.sk-toggleable__label {background-color: #d4ebff;}#sk-container-id-1 input.sk-hidden--visually {border: 0;clip: rect(1px 1px 1px 1px);clip: rect(1px, 1px, 1px, 1px);height: 1px;margin: -1px;overflow: hidden;padding: 0;position: absolute;width: 1px;}#sk-container-id-1 div.sk-estimator {font-family: monospace;background-color: #f0f8ff;border: 1px dotted black;border-radius: 0.25em;box-sizing: border-box;margin-bottom: 0.5em;}#sk-container-id-1 div.sk-estimator:hover {background-color: #d4ebff;}#sk-container-id-1 div.sk-parallel-item::after {content: \"\";width: 100%;border-bottom: 1px solid gray;flex-grow: 1;}#sk-container-id-1 div.sk-label:hover label.sk-toggleable__label {background-color: #d4ebff;}#sk-container-id-1 div.sk-serial::before {content: \"\";position: absolute;border-left: 1px solid gray;box-sizing: border-box;top: 0;bottom: 0;left: 50%;z-index: 0;}#sk-container-id-1 div.sk-serial {display: flex;flex-direction: column;align-items: center;background-color: white;padding-right: 0.2em;padding-left: 0.2em;position: relative;}#sk-container-id-1 div.sk-item {position: relative;z-index: 1;}#sk-container-id-1 div.sk-parallel {display: flex;align-items: stretch;justify-content: center;background-color: white;position: relative;}#sk-container-id-1 div.sk-item::before, #sk-container-id-1 div.sk-parallel-item::before {content: \"\";position: absolute;border-left: 1px solid gray;box-sizing: border-box;top: 0;bottom: 0;left: 50%;z-index: -1;}#sk-container-id-1 div.sk-parallel-item {display: flex;flex-direction: column;z-index: 1;position: relative;background-color: white;}#sk-container-id-1 div.sk-parallel-item:first-child::after {align-self: flex-end;width: 50%;}#sk-container-id-1 div.sk-parallel-item:last-child::after {align-self: flex-start;width: 50%;}#sk-container-id-1 div.sk-parallel-item:only-child::after {width: 0;}#sk-container-id-1 div.sk-dashed-wrapped {border: 1px dashed gray;margin: 0 0.4em 0.5em 0.4em;box-sizing: border-box;padding-bottom: 0.4em;background-color: white;}#sk-container-id-1 div.sk-label label {font-family: monospace;font-weight: bold;display: inline-block;line-height: 1.2em;}#sk-container-id-1 div.sk-label-container {text-align: center;}#sk-container-id-1 div.sk-container {/* jupyter's `normalize.less` sets `[hidden] { display: none; }` but bootstrap.min.css set `[hidden] { display: none !important; }` so we also need the `!important` here to be able to override the default hidden behavior on the sphinx rendered scikit-learn.org. See: https://github.com/scikit-learn/scikit-learn/issues/21755 */display: inline-block !important;position: relative;}#sk-container-id-1 div.sk-text-repr-fallback {display: none;}</style><div id=\"sk-container-id-1\" class=\"sk-top-container\"><div class=\"sk-text-repr-fallback\"><pre>LinearRegression()</pre><b>In a Jupyter environment, please rerun this cell to show the HTML representation or trust the notebook. <br />On GitHub, the HTML representation is unable to render, please try loading this page with nbviewer.org.</b></div><div class=\"sk-container\" hidden><div class=\"sk-item\"><div class=\"sk-estimator sk-toggleable\"><input class=\"sk-toggleable__control sk-hidden--visually\" id=\"sk-estimator-id-1\" type=\"checkbox\" checked><label for=\"sk-estimator-id-1\" class=\"sk-toggleable__label sk-toggleable__label-arrow\">LinearRegression</label><div class=\"sk-toggleable__content\"><pre>LinearRegression()</pre></div></div></div></div></div>"
      ],
      "text/plain": [
       "LinearRegression()"
      ]
     },
     "execution_count": 58,
     "metadata": {},
     "output_type": "execute_result"
    }
   ],
   "source": [
    "from sklearn.preprocessing import PolynomialFeatures\n",
    "\n",
    "\n",
    "# Create polynomial features\n",
    "poly_features = PolynomialFeatures(degree=6)\n",
    "X_poly = poly_features.fit_transform(x_train)\n",
    "\n",
    "# Perform linear regression\n",
    "regressor = LinearRegression()\n",
    "regressor.fit(X_poly, y_train)"
   ]
  },
  {
   "cell_type": "code",
   "execution_count": 59,
   "metadata": {
    "id": "ARKnIZr45jTQ"
   },
   "outputs": [],
   "source": [
    "from sklearn.base import RegressorMixin\n",
    "X_poly_test = poly_features.transform(x_test)\n",
    "# Evaluate the model on the training data\n",
    "train_score = regressor.score(X_poly, y_train)\n",
    "\n",
    "# Evaluate the model on the test data\n",
    "test_score = regressor.score(X_poly_test, y_test)"
   ]
  },
  {
   "cell_type": "markdown",
   "metadata": {},
   "source": [
    "## Analysing the evaluated score."
   ]
  },
  {
   "cell_type": "code",
   "execution_count": 60,
   "metadata": {
    "colab": {
     "base_uri": "https://localhost:8080/"
    },
    "id": "edCTb7pq5o11",
    "outputId": "e33a2073-5ef9-41c6-9be4-fb9bd6b9d003"
   },
   "outputs": [
    {
     "name": "stdout",
     "output_type": "stream",
     "text": [
      "Training Score: 0.9006400410753552 \n",
      "\n",
      "Test Score: -5.721826713638452e+19 \n",
      " \n"
     ]
    }
   ],
   "source": [
    "print(f\"Training Score: {train_score} \\n\")\n",
    "print(f\"Test Score: {test_score} \\n \" )"
   ]
  },
  {
   "cell_type": "markdown",
   "metadata": {},
   "source": [
    "## Building and fitting Ada Boost Regression ML model"
   ]
  },
  {
   "cell_type": "code",
   "execution_count": 221,
   "metadata": {
    "id": "8Px0og8t7I3X"
   },
   "outputs": [],
   "source": [
    "from sklearn.ensemble import AdaBoostRegressor\n",
    "abr = AdaBoostRegressor(n_estimators=10000, learning_rate=1.15)"
   ]
  },
  {
   "cell_type": "markdown",
   "metadata": {},
   "source": [
    "## Analysing the evaluated score."
   ]
  },
  {
   "cell_type": "code",
   "execution_count": 222,
   "metadata": {},
   "outputs": [
    {
     "name": "stdout",
     "output_type": "stream",
     "text": [
      "*---------------------------------------Score_AdaBoostRegressor(learning_rate=1.15, n_estimators=10000)-------------------------------------*\n",
      "The R2_Score is :- 0.45241498433807203 \n",
      "\n",
      "Training Score: 0.5876404611213474 \n",
      "\n",
      "Test Score: 0.45241498433807203 \n",
      " \n"
     ]
    }
   ],
   "source": [
    "evaluate_score(abr)"
   ]
  },
  {
   "cell_type": "markdown",
   "metadata": {},
   "source": [
    "## Building and fitting  Support Vector Regression ML model"
   ]
  },
  {
   "cell_type": "code",
   "execution_count": 80,
   "metadata": {},
   "outputs": [],
   "source": [
    "from sklearn.svm import SVR\n",
    "\n",
    "svr = SVR(kernel='rbf',\n",
    "    degree=3,\n",
    "    gamma='scale',\n",
    "    coef0=0.0,\n",
    "    tol=0.001,\n",
    "    C=1.0,\n",
    "    epsilon=0.1,\n",
    "    shrinking=True,\n",
    "    cache_size=200,\n",
    "    verbose=False,\n",
    "    max_iter=-1,)"
   ]
  },
  {
   "cell_type": "markdown",
   "metadata": {},
   "source": [
    "## Analysing the evaluated score."
   ]
  },
  {
   "cell_type": "code",
   "execution_count": 94,
   "metadata": {},
   "outputs": [
    {
     "name": "stdout",
     "output_type": "stream",
     "text": [
      "*---------------------------------------Score_SVR()-------------------------------------*\n",
      "The R2_Score is :- -0.06687981440110224 \n",
      "\n",
      "Training Score: -0.05740027339071352 \n",
      "\n",
      "Test Score: -0.06687981440110224 \n",
      " \n"
     ]
    }
   ],
   "source": [
    "evaluate_score(svr)"
   ]
  },
  {
   "cell_type": "markdown",
   "metadata": {},
   "source": [
    "## Building and fitting Gradient Boosting Regression ML model"
   ]
  },
  {
   "cell_type": "code",
   "execution_count": 85,
   "metadata": {},
   "outputs": [],
   "source": [
    "from sklearn.ensemble import GradientBoostingRegressor"
   ]
  },
  {
   "cell_type": "code",
   "execution_count": 146,
   "metadata": {},
   "outputs": [],
   "source": [
    "gbr = GradientBoostingRegressor(n_estimators=800, learning_rate=0.2, random_state=45,max_features='auto')"
   ]
  },
  {
   "cell_type": "markdown",
   "metadata": {},
   "source": [
    "## Analysing the evaluated score."
   ]
  },
  {
   "cell_type": "code",
   "execution_count": 147,
   "metadata": {},
   "outputs": [
    {
     "name": "stdout",
     "output_type": "stream",
     "text": [
      "*---------------------------------------Score_GradientBoostingRegressor(learning_rate=0.2, max_features='auto',\n",
      "                          n_estimators=800, random_state=45)-------------------------------------*\n",
      "The R2_Score is :- 0.7112668952208713 \n",
      "\n",
      "Training Score: 0.9464510742130211 \n",
      "\n",
      "Test Score: 0.7112668952208713 \n",
      " \n"
     ]
    }
   ],
   "source": [
    "evaluate_score(gbr)"
   ]
  },
  {
   "cell_type": "markdown",
   "metadata": {},
   "source": [
    "## Building and fitting Hist Gradient Boosting Regression ML model"
   ]
  },
  {
   "cell_type": "code",
   "execution_count": 152,
   "metadata": {},
   "outputs": [],
   "source": [
    "from sklearn.ensemble import HistGradientBoostingRegressor"
   ]
  },
  {
   "cell_type": "code",
   "execution_count": 177,
   "metadata": {},
   "outputs": [],
   "source": [
    "hbr = HistGradientBoostingRegressor(l2_regularization=0.8)"
   ]
  },
  {
   "cell_type": "markdown",
   "metadata": {},
   "source": [
    "## Analysing the evaluated score."
   ]
  },
  {
   "cell_type": "code",
   "execution_count": 178,
   "metadata": {},
   "outputs": [
    {
     "name": "stdout",
     "output_type": "stream",
     "text": [
      "*---------------------------------------Score_HistGradientBoostingRegressor(l2_regularization=0.8)-------------------------------------*\n",
      "The R2_Score is :- 0.6562793613573455 \n",
      "\n",
      "Training Score: 0.8207662104039133 \n",
      "\n",
      "Test Score: 0.6562793613573455 \n",
      " \n"
     ]
    }
   ],
   "source": [
    "evaluate_score(hbr)"
   ]
  },
  {
   "cell_type": "markdown",
   "metadata": {},
   "source": [
    "# Saving the best suitable model"
   ]
  },
  {
   "cell_type": "markdown",
   "metadata": {},
   "source": [
    "### We will continue with Random Forest regression ML Model. And saving that model"
   ]
  },
  {
   "cell_type": "code",
   "execution_count": 232,
   "metadata": {},
   "outputs": [],
   "source": [
    "import pickle\n",
    "\n",
    "model = rfc\n",
    "with open('final_model.pkl', 'wb') as f:\n",
    "    pickle.dump(model, f)\n"
   ]
  },
  {
   "cell_type": "markdown",
   "metadata": {},
   "source": [
    "## Loading that Ml Model"
   ]
  },
  {
   "cell_type": "code",
   "execution_count": 233,
   "metadata": {},
   "outputs": [],
   "source": [
    "# Assuming your pickle file is named 'model.pkl'\n",
    "with open('final_model.pkl', 'rb') as f:\n",
    "    model = pickle.load(f)\n"
   ]
  },
  {
   "cell_type": "markdown",
   "metadata": {},
   "source": [
    "## Creating 20 random point table for the further test."
   ]
  },
  {
   "cell_type": "code",
   "execution_count": 228,
   "metadata": {},
   "outputs": [],
   "source": [
    "data = dataframe.sample(20)"
   ]
  },
  {
   "cell_type": "code",
   "execution_count": 229,
   "metadata": {},
   "outputs": [
    {
     "data": {
      "text/html": [
       "<div>\n",
       "<style scoped>\n",
       "    .dataframe tbody tr th:only-of-type {\n",
       "        vertical-align: middle;\n",
       "    }\n",
       "\n",
       "    .dataframe tbody tr th {\n",
       "        vertical-align: top;\n",
       "    }\n",
       "\n",
       "    .dataframe thead th {\n",
       "        text-align: right;\n",
       "    }\n",
       "</style>\n",
       "<table border=\"1\" class=\"dataframe\">\n",
       "  <thead>\n",
       "    <tr style=\"text-align: right;\">\n",
       "      <th></th>\n",
       "      <th>name</th>\n",
       "      <th>Brand</th>\n",
       "      <th>year</th>\n",
       "      <th>selling_price</th>\n",
       "      <th>km_driven</th>\n",
       "      <th>fuel</th>\n",
       "      <th>seller_type</th>\n",
       "      <th>transmission</th>\n",
       "      <th>owner</th>\n",
       "    </tr>\n",
       "  </thead>\n",
       "  <tbody>\n",
       "    <tr>\n",
       "      <th>1500</th>\n",
       "      <td>Toyota Innova 2.5 VX (Diesel) 7 Seater BS IV</td>\n",
       "      <td>26</td>\n",
       "      <td>2010</td>\n",
       "      <td>819999</td>\n",
       "      <td>120000.0</td>\n",
       "      <td>1</td>\n",
       "      <td>1</td>\n",
       "      <td>1</td>\n",
       "      <td>2</td>\n",
       "    </tr>\n",
       "    <tr>\n",
       "      <th>782</th>\n",
       "      <td>Maruti SX4 ZDI</td>\n",
       "      <td>18</td>\n",
       "      <td>2011</td>\n",
       "      <td>220000</td>\n",
       "      <td>90000.0</td>\n",
       "      <td>1</td>\n",
       "      <td>1</td>\n",
       "      <td>1</td>\n",
       "      <td>4</td>\n",
       "    </tr>\n",
       "    <tr>\n",
       "      <th>3934</th>\n",
       "      <td>Honda City i-DTEC ZX</td>\n",
       "      <td>9</td>\n",
       "      <td>2017</td>\n",
       "      <td>1025000</td>\n",
       "      <td>38000.0</td>\n",
       "      <td>1</td>\n",
       "      <td>0</td>\n",
       "      <td>1</td>\n",
       "      <td>0</td>\n",
       "    </tr>\n",
       "    <tr>\n",
       "      <th>1387</th>\n",
       "      <td>Maruti Wagon R VXI BS IV</td>\n",
       "      <td>18</td>\n",
       "      <td>2016</td>\n",
       "      <td>400000</td>\n",
       "      <td>25000.0</td>\n",
       "      <td>4</td>\n",
       "      <td>1</td>\n",
       "      <td>1</td>\n",
       "      <td>0</td>\n",
       "    </tr>\n",
       "    <tr>\n",
       "      <th>2793</th>\n",
       "      <td>Tata Zest Revotron 1.2T XE</td>\n",
       "      <td>25</td>\n",
       "      <td>2016</td>\n",
       "      <td>380000</td>\n",
       "      <td>15000.0</td>\n",
       "      <td>4</td>\n",
       "      <td>1</td>\n",
       "      <td>1</td>\n",
       "      <td>0</td>\n",
       "    </tr>\n",
       "    <tr>\n",
       "      <th>874</th>\n",
       "      <td>Maruti Alto 800 LXI</td>\n",
       "      <td>18</td>\n",
       "      <td>2017</td>\n",
       "      <td>160000</td>\n",
       "      <td>50000.0</td>\n",
       "      <td>4</td>\n",
       "      <td>1</td>\n",
       "      <td>1</td>\n",
       "      <td>0</td>\n",
       "    </tr>\n",
       "    <tr>\n",
       "      <th>2640</th>\n",
       "      <td>Maruti Baleno Zeta 1.3</td>\n",
       "      <td>18</td>\n",
       "      <td>2018</td>\n",
       "      <td>750000</td>\n",
       "      <td>70000.0</td>\n",
       "      <td>1</td>\n",
       "      <td>1</td>\n",
       "      <td>1</td>\n",
       "      <td>0</td>\n",
       "    </tr>\n",
       "    <tr>\n",
       "      <th>4051</th>\n",
       "      <td>Volkswagen Vento Diesel Trendline</td>\n",
       "      <td>27</td>\n",
       "      <td>2011</td>\n",
       "      <td>200000</td>\n",
       "      <td>100000.0</td>\n",
       "      <td>1</td>\n",
       "      <td>1</td>\n",
       "      <td>1</td>\n",
       "      <td>2</td>\n",
       "    </tr>\n",
       "    <tr>\n",
       "      <th>2063</th>\n",
       "      <td>Maruti Baleno Delta 1.3</td>\n",
       "      <td>18</td>\n",
       "      <td>2018</td>\n",
       "      <td>650000</td>\n",
       "      <td>15000.0</td>\n",
       "      <td>1</td>\n",
       "      <td>1</td>\n",
       "      <td>1</td>\n",
       "      <td>0</td>\n",
       "    </tr>\n",
       "    <tr>\n",
       "      <th>3480</th>\n",
       "      <td>Volkswagen Vento Diesel Style Limited Edition</td>\n",
       "      <td>27</td>\n",
       "      <td>2011</td>\n",
       "      <td>300000</td>\n",
       "      <td>100000.0</td>\n",
       "      <td>1</td>\n",
       "      <td>1</td>\n",
       "      <td>1</td>\n",
       "      <td>0</td>\n",
       "    </tr>\n",
       "    <tr>\n",
       "      <th>4056</th>\n",
       "      <td>Mahindra TUV 300 T10 Dual Tone</td>\n",
       "      <td>17</td>\n",
       "      <td>2018</td>\n",
       "      <td>784000</td>\n",
       "      <td>40000.0</td>\n",
       "      <td>1</td>\n",
       "      <td>1</td>\n",
       "      <td>1</td>\n",
       "      <td>0</td>\n",
       "    </tr>\n",
       "    <tr>\n",
       "      <th>3388</th>\n",
       "      <td>Honda Mobilio S i DTEC</td>\n",
       "      <td>9</td>\n",
       "      <td>2016</td>\n",
       "      <td>640000</td>\n",
       "      <td>36000.0</td>\n",
       "      <td>1</td>\n",
       "      <td>1</td>\n",
       "      <td>1</td>\n",
       "      <td>2</td>\n",
       "    </tr>\n",
       "    <tr>\n",
       "      <th>783</th>\n",
       "      <td>Mahindra XUV500 W8 2WD</td>\n",
       "      <td>17</td>\n",
       "      <td>2012</td>\n",
       "      <td>400000</td>\n",
       "      <td>150000.0</td>\n",
       "      <td>1</td>\n",
       "      <td>1</td>\n",
       "      <td>1</td>\n",
       "      <td>2</td>\n",
       "    </tr>\n",
       "    <tr>\n",
       "      <th>2489</th>\n",
       "      <td>Hyundai i20 Active S Petrol</td>\n",
       "      <td>10</td>\n",
       "      <td>2016</td>\n",
       "      <td>560000</td>\n",
       "      <td>68523.0</td>\n",
       "      <td>4</td>\n",
       "      <td>0</td>\n",
       "      <td>1</td>\n",
       "      <td>0</td>\n",
       "    </tr>\n",
       "    <tr>\n",
       "      <th>4330</th>\n",
       "      <td>Tata Indica Vista Aqua 1.4 TDI</td>\n",
       "      <td>25</td>\n",
       "      <td>2010</td>\n",
       "      <td>150000</td>\n",
       "      <td>130000.0</td>\n",
       "      <td>1</td>\n",
       "      <td>1</td>\n",
       "      <td>1</td>\n",
       "      <td>2</td>\n",
       "    </tr>\n",
       "    <tr>\n",
       "      <th>797</th>\n",
       "      <td>Maruti Swift 1.3 VXI ABS</td>\n",
       "      <td>18</td>\n",
       "      <td>2015</td>\n",
       "      <td>475000</td>\n",
       "      <td>24600.0</td>\n",
       "      <td>4</td>\n",
       "      <td>0</td>\n",
       "      <td>1</td>\n",
       "      <td>0</td>\n",
       "    </tr>\n",
       "    <tr>\n",
       "      <th>1384</th>\n",
       "      <td>Hyundai EON Era Plus</td>\n",
       "      <td>10</td>\n",
       "      <td>2013</td>\n",
       "      <td>200000</td>\n",
       "      <td>120000.0</td>\n",
       "      <td>4</td>\n",
       "      <td>1</td>\n",
       "      <td>1</td>\n",
       "      <td>0</td>\n",
       "    </tr>\n",
       "    <tr>\n",
       "      <th>3773</th>\n",
       "      <td>Hyundai Accent Executive CNG</td>\n",
       "      <td>10</td>\n",
       "      <td>2012</td>\n",
       "      <td>185000</td>\n",
       "      <td>67000.0</td>\n",
       "      <td>0</td>\n",
       "      <td>0</td>\n",
       "      <td>1</td>\n",
       "      <td>2</td>\n",
       "    </tr>\n",
       "    <tr>\n",
       "      <th>644</th>\n",
       "      <td>Tata Hexa XT 4X4</td>\n",
       "      <td>25</td>\n",
       "      <td>2017</td>\n",
       "      <td>1600000</td>\n",
       "      <td>3000.0</td>\n",
       "      <td>1</td>\n",
       "      <td>1</td>\n",
       "      <td>1</td>\n",
       "      <td>0</td>\n",
       "    </tr>\n",
       "    <tr>\n",
       "      <th>1624</th>\n",
       "      <td>Hyundai Creta 1.6 CRDi SX</td>\n",
       "      <td>10</td>\n",
       "      <td>2015</td>\n",
       "      <td>850000</td>\n",
       "      <td>58692.0</td>\n",
       "      <td>1</td>\n",
       "      <td>2</td>\n",
       "      <td>1</td>\n",
       "      <td>0</td>\n",
       "    </tr>\n",
       "  </tbody>\n",
       "</table>\n",
       "</div>"
      ],
      "text/plain": [
       "                                               name  Brand  year  \\\n",
       "1500   Toyota Innova 2.5 VX (Diesel) 7 Seater BS IV     26  2010   \n",
       "782                                  Maruti SX4 ZDI     18  2011   \n",
       "3934                           Honda City i-DTEC ZX      9  2017   \n",
       "1387                       Maruti Wagon R VXI BS IV     18  2016   \n",
       "2793                     Tata Zest Revotron 1.2T XE     25  2016   \n",
       "874                             Maruti Alto 800 LXI     18  2017   \n",
       "2640                         Maruti Baleno Zeta 1.3     18  2018   \n",
       "4051              Volkswagen Vento Diesel Trendline     27  2011   \n",
       "2063                        Maruti Baleno Delta 1.3     18  2018   \n",
       "3480  Volkswagen Vento Diesel Style Limited Edition     27  2011   \n",
       "4056                 Mahindra TUV 300 T10 Dual Tone     17  2018   \n",
       "3388                         Honda Mobilio S i DTEC      9  2016   \n",
       "783                          Mahindra XUV500 W8 2WD     17  2012   \n",
       "2489                    Hyundai i20 Active S Petrol     10  2016   \n",
       "4330                 Tata Indica Vista Aqua 1.4 TDI     25  2010   \n",
       "797                        Maruti Swift 1.3 VXI ABS     18  2015   \n",
       "1384                           Hyundai EON Era Plus     10  2013   \n",
       "3773                   Hyundai Accent Executive CNG     10  2012   \n",
       "644                                Tata Hexa XT 4X4     25  2017   \n",
       "1624                      Hyundai Creta 1.6 CRDi SX     10  2015   \n",
       "\n",
       "      selling_price  km_driven  fuel  seller_type  transmission  owner  \n",
       "1500         819999   120000.0     1            1             1      2  \n",
       "782          220000    90000.0     1            1             1      4  \n",
       "3934        1025000    38000.0     1            0             1      0  \n",
       "1387         400000    25000.0     4            1             1      0  \n",
       "2793         380000    15000.0     4            1             1      0  \n",
       "874          160000    50000.0     4            1             1      0  \n",
       "2640         750000    70000.0     1            1             1      0  \n",
       "4051         200000   100000.0     1            1             1      2  \n",
       "2063         650000    15000.0     1            1             1      0  \n",
       "3480         300000   100000.0     1            1             1      0  \n",
       "4056         784000    40000.0     1            1             1      0  \n",
       "3388         640000    36000.0     1            1             1      2  \n",
       "783          400000   150000.0     1            1             1      2  \n",
       "2489         560000    68523.0     4            0             1      0  \n",
       "4330         150000   130000.0     1            1             1      2  \n",
       "797          475000    24600.0     4            0             1      0  \n",
       "1384         200000   120000.0     4            1             1      0  \n",
       "3773         185000    67000.0     0            0             1      2  \n",
       "644         1600000     3000.0     1            1             1      0  \n",
       "1624         850000    58692.0     1            2             1      0  "
      ]
     },
     "execution_count": 229,
     "metadata": {},
     "output_type": "execute_result"
    }
   ],
   "source": [
    "data"
   ]
  },
  {
   "cell_type": "markdown",
   "metadata": {},
   "source": [
    "## Saving the random point in pkl format"
   ]
  },
  {
   "cell_type": "code",
   "execution_count": 234,
   "metadata": {},
   "outputs": [],
   "source": [
    "model1 = data\n",
    "with open('data.pkl', 'wb') as f:\n",
    "    pickle.dump(model1, f)\n"
   ]
  },
  {
   "cell_type": "code",
   "execution_count": null,
   "metadata": {},
   "outputs": [],
   "source": []
  }
 ],
 "metadata": {
  "accelerator": "GPU",
  "colab": {
   "gpuType": "T4",
   "provenance": []
  },
  "kernelspec": {
   "display_name": "Python 3 (ipykernel)",
   "language": "python",
   "name": "python3"
  },
  "language_info": {
   "codemirror_mode": {
    "name": "ipython",
    "version": 3
   },
   "file_extension": ".py",
   "mimetype": "text/x-python",
   "name": "python",
   "nbconvert_exporter": "python",
   "pygments_lexer": "ipython3",
   "version": "3.10.9"
  }
 },
 "nbformat": 4,
 "nbformat_minor": 1
}
